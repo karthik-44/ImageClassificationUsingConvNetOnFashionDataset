{
 "cells": [
  {
   "cell_type": "markdown",
   "metadata": {
    "id": "YPi6u7FGd7e3"
   },
   "source": [
    "# Convolutional Neural Networks\n",
    "\n",
    "Create a convolutional neural network from scratch to classify images using PyTorch.  \n",
    "\n",
    "### Instructions\n",
    "- The maximum number of parameters you are allowed to use for your network is **100,000**. \n"
   ]
  },
  {
   "cell_type": "markdown",
   "metadata": {
    "id": "9_a3M4lEd7e5"
   },
   "source": [
    "## Install Dependencies"
   ]
  },
  {
   "cell_type": "code",
   "execution_count": 168,
   "metadata": {
    "colab": {
     "base_uri": "https://localhost:8080/"
    },
    "id": "TKDagLaPjFLC",
    "outputId": "2813e682-5937-40c0-e3d3-f72d8023917e"
   },
   "outputs": [
    {
     "name": "stdout",
     "output_type": "stream",
     "text": [
      "Requirement already satisfied: torchinfo in /usr/local/lib/python3.7/dist-packages (1.6.5)\n"
     ]
    }
   ],
   "source": [
    "!pip install torchinfo"
   ]
  },
  {
   "cell_type": "code",
   "execution_count": 169,
   "metadata": {
    "colab": {
     "base_uri": "https://localhost:8080/"
    },
    "id": "nCzMNSfw7KO0",
    "outputId": "933c4edc-af6b-4d83-c521-3ccdad4eb7d4"
   },
   "outputs": [
    {
     "name": "stdout",
     "output_type": "stream",
     "text": [
      "*** GPU connected\n"
     ]
    }
   ],
   "source": [
    "# \n",
    "# Checking if hardware acceleration enabled\n",
    "import os \n",
    "if int(os.environ['COLAB_GPU']) > 0:\n",
    "  print (\"*** GPU connected\")\n",
    "else:\n",
    "  print (\"*** No hardware acceleration: change to GPU under Runtime > Change runtime type > Hardware accelerator\")"
   ]
  },
  {
   "cell_type": "markdown",
   "metadata": {
    "id": "rBZBZCnqjLsp"
   },
   "source": [
    "## Data Preparation"
   ]
  },
  {
   "cell_type": "code",
   "execution_count": 170,
   "metadata": {
    "id": "i0NCql1pd7e6"
   },
   "outputs": [],
   "source": [
    "# Importing the libraries\n",
    "import os\n",
    "import torch\n",
    "import torchvision\n",
    "from torchvision.utils import make_grid\n",
    "from PIL import Image\n",
    "import requests\n",
    "\n",
    "import numpy as np"
   ]
  },
  {
   "cell_type": "markdown",
   "metadata": {
    "id": "MaDH8gtdd7e8"
   },
   "source": [
    "Here, we will use the Fashion-MNIST dataset. Fashion-MNIST is a dataset of Zalando's article images—consisting of a training set of 60,000 examples and a test set of 10,000 examples. Each example is a 28x28 grayscale image, associated with a label from 10 classes.  \n",
    "\n",
    "### Data\n",
    "\n",
    "Each image is 28 pixels in height and 28 pixels in width, for a total of 784 pixels in total. Each pixel has a single pixel-value associated with it, indicating the lightness or darkness of that pixel, with higher numbers meaning darker. This pixel-value is an integer between 0 and 255.  \n",
    "\n",
    "### Labels\n",
    "\n",
    "Each training and test example is assigned to one of the following labels:\n",
    "\n",
    "| Label | Description |\n",
    "|-------|-------------|\n",
    "| 0     | T-shirt/top |\n",
    "| 1     | Trouser     |\n",
    "| 2     | Pullover    |\n",
    "| 3     | Dress       |\n",
    "| 4     | Coat        |\n",
    "| 5     | Sandal      |\n",
    "| 6     | Shirt       |\n",
    "| 7     | Sneaker     |\n",
    "| 8     | Bag         |\n",
    "| 9     | Ankle boot  |\n",
    "\n",
    "Fashion-MNIST is included in the `torchvision` library."
   ]
  },
  {
   "cell_type": "code",
   "execution_count": 171,
   "metadata": {
    "id": "Z798mUqTd7e9"
   },
   "outputs": [],
   "source": [
    "from torchvision.datasets import FashionMNIST\n",
    "from torchvision.transforms import Compose, ToTensor, Normalize, RandomInvert, RandomRotation, RandomVerticalFlip, RandomHorizontalFlip"
   ]
  },
  {
   "cell_type": "code",
   "execution_count": 172,
   "metadata": {
    "id": "2Z-JXzcNd7e-"
   },
   "outputs": [],
   "source": [
    "# Transform to normalize the data and convert to a tensor\n",
    "transform = Compose([RandomVerticalFlip(), RandomHorizontalFlip(),ToTensor(),\n",
    "                     Normalize((0.5,), (0.5,))\n",
    "    ])\n",
    "\n",
    "# Download the data\n",
    "dataset = FashionMNIST('MNIST_data/', download = True, train = True, transform = transform)"
   ]
  },
  {
   "cell_type": "markdown",
   "metadata": {
    "id": "poonGygNd7e_"
   },
   "source": [
    "**NOTE:** You may add more operations to `Compose` if you're performing data augmentation."
   ]
  },
  {
   "cell_type": "markdown",
   "metadata": {
    "id": "DaAqD5iod7fA"
   },
   "source": [
    "## Data Exploration"
   ]
  },
  {
   "cell_type": "markdown",
   "metadata": {
    "id": "d0HMLIl8d7fB"
   },
   "source": [
    "Let's take a look at the classes in our dataset."
   ]
  },
  {
   "cell_type": "code",
   "execution_count": 173,
   "metadata": {
    "colab": {
     "base_uri": "https://localhost:8080/"
    },
    "id": "fYWMPrqyd7fB",
    "outputId": "c8b5081b-56cd-4936-8b01-8c4763496d76"
   },
   "outputs": [
    {
     "name": "stdout",
     "output_type": "stream",
     "text": [
      "['T-shirt/top', 'Trouser', 'Pullover', 'Dress', 'Coat', 'Sandal', 'Shirt', 'Sneaker', 'Bag', 'Ankle boot']\n"
     ]
    }
   ],
   "source": [
    "print(dataset.classes)"
   ]
  },
  {
   "cell_type": "code",
   "execution_count": 174,
   "metadata": {
    "id": "fFGZx9tPd7fC"
   },
   "outputs": [],
   "source": [
    "import matplotlib.pyplot as plt\n",
    "\n",
    "def show_example(img, label):\n",
    "    print('Label: {} ({})'.format(dataset.classes[label], label))\n",
    "    plt.imshow(img.squeeze(), cmap='Greys_r')\n",
    "    plt.axis(False)"
   ]
  },
  {
   "cell_type": "code",
   "execution_count": 175,
   "metadata": {
    "colab": {
     "base_uri": "https://localhost:8080/",
     "height": 265
    },
    "id": "KH0ujCLzd7fC",
    "outputId": "65e02640-62b6-4cc3-c90a-9fbfca234c91"
   },
   "outputs": [
    {
     "name": "stdout",
     "output_type": "stream",
     "text": [
      "Label: Dress (3)\n"
     ]
    },
    {
     "data": {
      "image/png": "[encoded data removed]",
      "text/plain": [
       "<Figure size 432x288 with 1 Axes>"
      ]
     },
     "metadata": {
      "needs_background": "light"
     },
     "output_type": "display_data"
    }
   ],
   "source": [
    "show_example(*dataset[20])"
   ]
  },
  {
   "cell_type": "code",
   "execution_count": 176,
   "metadata": {
    "colab": {
     "base_uri": "https://localhost:8080/",
     "height": 265
    },
    "id": "Ibr_8mvGd7fD",
    "outputId": "c2d26439-5420-405b-89fe-a56158f8af18"
   },
   "outputs": [
    {
     "name": "stdout",
     "output_type": "stream",
     "text": [
      "Label: Sneaker (7)\n"
     ]
    },
    {
     "data": {
      "image/png": "[encoded data removed]",
      "text/plain": [
       "<Figure size 432x288 with 1 Axes>"
      ]
     },
     "metadata": {
      "needs_background": "light"
     },
     "output_type": "display_data"
    }
   ],
   "source": [
    "show_example(*dataset[20000])"
   ]
  },
  {
   "cell_type": "markdown",
   "metadata": {
    "id": "v6E5gNKod7fD"
   },
   "source": [
    "## Creating Training and Validation Datasets"
   ]
  },
  {
   "cell_type": "markdown",
   "metadata": {
    "id": "gRST2b0Id7fD"
   },
   "source": [
    "The `split_indices` function takes in the size of the entire dataset, `n`, the fraction of data to be used as validation set, `val_frac`, and the random seed and returns the indices of the data points to be added to the validation dataset.  \n",
    "\n",
    "**Choose a suitable fraction for your validation set and experiment with the seed. Remember that the better your validation set, the higher the chances that your model would do well on the test set.**"
   ]
  },
  {
   "cell_type": "code",
   "execution_count": 177,
   "metadata": {
    "id": "ICQyVJSCd7fD"
   },
   "outputs": [],
   "source": [
    "def split_indices(n, val_frac, seed):\n",
    "    # Determine the size of the validation set\n",
    "    n_val = int(val_frac * n)\n",
    "    np.random.seed(seed)\n",
    "    # Create random permutation between 0 to n-1\n",
    "    idxs = np.random.permutation(n)\n",
    "    # Pick first n_val indices for validation set\n",
    "    return idxs[n_val:], idxs[:n_val]"
   ]
  },
  {
   "cell_type": "code",
   "execution_count": 178,
   "metadata": {
    "colab": {
     "base_uri": "https://localhost:8080/"
    },
    "id": "Okd969PMd7fE",
    "outputId": "92206670-47c8-458b-cfb9-0365de17777a"
   },
   "outputs": [
    {
     "name": "stdout",
     "output_type": "stream",
     "text": [
      "#samples in training set: 48000\n",
      "#samples in validation set: 12000\n"
     ]
    }
   ],
   "source": [
    "val_frac = 0.2 ## Set the fraction for the validation set\n",
    "rand_seed = 633 ## Set the random seed\n",
    "\n",
    "train_indices, val_indices = split_indices(len(dataset), val_frac, rand_seed)\n",
    "print(\"#samples in training set: {}\".format(len(train_indices)))\n",
    "print(\"#samples in validation set: {}\".format(len(val_indices)))"
   ]
  },
  {
   "cell_type": "markdown",
   "metadata": {
    "id": "TFioAgKgd7fE"
   },
   "source": [
    "Next, we make use of the built-in dataloaders in PyTorch to create iterables of our our training and validation sets. This helps in avoiding fitting the whole dataset into memory and only loads a batch of the data that we can decide. \n",
    "\n",
    "**Set the `batch_size` depending on the hardware resource (GPU/CPU RAM) you are using for the assignment.**"
   ]
  },
  {
   "cell_type": "code",
   "execution_count": 179,
   "metadata": {
    "id": "9befIig0d7fE"
   },
   "outputs": [],
   "source": [
    "from torch.utils.data.sampler import SubsetRandomSampler\n",
    "from torch.utils.data.dataloader import DataLoader"
   ]
  },
  {
   "cell_type": "code",
   "execution_count": 210,
   "metadata": {
    "id": "vfk3dPrLd7fF"
   },
   "outputs": [],
   "source": [
    "batch_size = 64 ## Set the batch size"
   ]
  },
  {
   "cell_type": "code",
   "execution_count": 211,
   "metadata": {
    "id": "1LFDd_qbd7fF"
   },
   "outputs": [],
   "source": [
    "# Training sampler and data loader\n",
    "train_sampler = SubsetRandomSampler(train_indices)\n",
    "train_dl = DataLoader(dataset,\n",
    "                     batch_size,\n",
    "                     sampler=train_sampler)\n",
    "\n",
    "# Validation sampler and data loader\n",
    "val_sampler = SubsetRandomSampler(val_indices)\n",
    "val_dl = DataLoader(dataset,\n",
    "                   batch_size,\n",
    "                   sampler=val_sampler)"
   ]
  },
  {
   "cell_type": "markdown",
   "metadata": {
    "id": "Kl1TvXQId7fF"
   },
   "source": [
    "Plot images in a sample batch of data."
   ]
  },
  {
   "cell_type": "code",
   "execution_count": 212,
   "metadata": {
    "id": "W45yega0d7fF"
   },
   "outputs": [],
   "source": [
    "def show_batch(dl):\n",
    "    for images, labels in dl:\n",
    "        fig, ax = plt.subplots(figsize=(10,10))\n",
    "        ax.set_xticks([]); ax.set_yticks([])\n",
    "        ax.imshow(make_grid(images, 8).permute(1, 2, 0), cmap='Greys_r')\n",
    "        break"
   ]
  },
  {
   "cell_type": "code",
   "execution_count": 213,
   "metadata": {
    "colab": {
     "base_uri": "https://localhost:8080/",
     "height": 595
    },
    "id": "q-bxq1y5d7fF",
    "outputId": "5e2885ec-cd9e-48b9-c969-8b21eff923b8"
   },
   "outputs": [
    {
     "name": "stderr",
     "output_type": "stream",
     "text": [
      "Clipping input data to the valid range for imshow with RGB data ([0..1] for floats or [0..255] for integers).\n"
     ]
    },
    {
     "data": {
      "image/png": "[encoded data removed]",
      "text/plain": [
       "<Figure size 720x720 with 1 Axes>"
      ]
     },
     "metadata": {},
     "output_type": "display_data"
    }
   ],
   "source": [
    "show_batch(train_dl)"
   ]
  },
  {
   "cell_type": "markdown",
   "metadata": {
    "id": "icIsVMdXd7fG"
   },
   "source": [
    "## Building the Model"
   ]
  },
  {
   "cell_type": "markdown",
   "metadata": {
    "id": "1swT2eKjd7fG"
   },
   "source": [
    "**Create your model by defining the network architecture in the `ImageClassifierNet` class.**  \n",
    "**NOTE:** The number of parameters in your network must be $\\leq$ 100,000."
   ]
  },
  {
   "cell_type": "code",
   "execution_count": 214,
   "metadata": {
    "id": "yZhEfH2Pd7fG"
   },
   "outputs": [],
   "source": [
    "# Import the libraries\n",
    "import torch.nn as nn\n",
    "import torch.nn.functional as F\n",
    "\n",
    "from torchinfo import summary"
   ]
  },
  {
   "cell_type": "code",
   "execution_count": 215,
   "metadata": {
    "id": "8yeVBIMzd7fG"
   },
   "outputs": [],
   "source": [
    "class ImageClassifierNet(nn.Module):\n",
    "    def __init__(self, n_channels=3):\n",
    "        super(ImageClassifierNet, self).__init__()\n",
    "        \n",
    "        #Output size after convolution filter\n",
    "        #((w-f+2P)/s) +1\n",
    "        \n",
    "        #Input shape = (batch_size,1,28,28)\n",
    "        \n",
    "        self.conv1 = nn.Conv2d(in_channels=1,out_channels=12,kernel_size=5,stride=1,padding=0)\n",
    "        #Shape = (batch_size,12,24,24)\n",
    "        self.bn1 = nn.BatchNorm2d(num_features=12)\n",
    "        #Shape = (batch_size,12,24,24)\n",
    "        self.relu1 = nn.ReLU()\n",
    "        #Shape = (batch_size,12,24,24)\n",
    "        self.pool1 = nn.MaxPool2d(kernel_size=2)\n",
    "        #Reduce the image size be factor 2\n",
    "        #Shape = (batch_size,12,12,12)\n",
    "         \n",
    "        \n",
    "        self.conv2 = nn.Conv2d(in_channels=12,out_channels=30,kernel_size=5,stride=1,padding=0)\n",
    "        #Shape = (batch_size,30,8,8)\n",
    "        self.bn2 = nn.BatchNorm2d(num_features=30)\n",
    "        #Shape = (batch_size,30,8,8)\n",
    "        self.relu2 = nn.ReLU()\n",
    "        #Shape = (batch_size,30,8,8)\n",
    "        self.pool2 = nn.MaxPool2d(kernel_size=2)\n",
    "        #Reduce the image size be factor 2\n",
    "        #Shape = (batch_size,30,4,4)\n",
    "        \n",
    "        self.fc1 = nn.Linear(in_features=30*4*4, out_features=150)\n",
    "        self.drop1 = nn.Dropout(0.1)\n",
    "        self.fc2 = nn.Linear(in_features=150, out_features=85)\n",
    "        self.out = nn.Linear(in_features=85, out_features=10)                \n",
    "      \n",
    "\n",
    "    def forward(self, X):\n",
    "        ## conv 1    \n",
    "        X = self.conv1(X)\n",
    "        X = self.bn1(X)\n",
    "        X = self.relu1(X)  \n",
    "        X = self.pool1(X)\n",
    "                \n",
    "        ## conv 2\n",
    "        X = self.conv2(X)\n",
    "        X = self.bn2(X)\n",
    "        X = self.relu2(X)        \n",
    "        X = self.pool2(X)\n",
    "                \n",
    "        # fc1\n",
    "        #X = X.reshape(-1, 24*4*4)\n",
    "        X = X.view(-1, 30*4*4)\n",
    "        X = self.fc1(X)\n",
    "        X = F.relu(X)\n",
    "        \n",
    "        #dropout\n",
    "        X = self.drop1(X)\n",
    "\n",
    "        # fc2\n",
    "        X = self.fc2(X)\n",
    "        X = F.relu(X)\n",
    "        \n",
    "        # output\n",
    "        X = self.out(X)\n",
    "        # don't need softmax here since we'll use cross-entropy as activation.\n",
    "        return X        \n",
    "            \n",
    "                    "
   ]
  },
  {
   "cell_type": "code",
   "execution_count": 216,
   "metadata": {
    "id": "pb4smLb6d7fG"
   },
   "outputs": [],
   "source": [
    "model = ImageClassifierNet()"
   ]
  },
  {
   "cell_type": "markdown",
   "metadata": {
    "id": "jc7MAuPnd7fG"
   },
   "source": [
    "The following code block prints your network architecture. It also shows the total number of parameters in your network (see `Total params`).  \n",
    "\n",
    "**NOTE: The total number of parameters in your model should be <= 100,000.**"
   ]
  },
  {
   "cell_type": "code",
   "execution_count": 217,
   "metadata": {
    "colab": {
     "base_uri": "https://localhost:8080/"
    },
    "id": "1uxKLwc9d7fH",
    "outputId": "39a1b501-f2cf-4c67-cf4f-850aed634135"
   },
   "outputs": [
    {
     "data": {
      "text/plain": [
       "==========================================================================================\n",
       "Layer (type:depth-idx)                   Output Shape              Param #\n",
       "==========================================================================================\n",
       "ImageClassifierNet                       --                        --\n",
       "├─Conv2d: 1-1                            [64, 12, 24, 24]          312\n",
       "├─BatchNorm2d: 1-2                       [64, 12, 24, 24]          24\n",
       "├─ReLU: 1-3                              [64, 12, 24, 24]          --\n",
       "├─MaxPool2d: 1-4                         [64, 12, 12, 12]          --\n",
       "├─Conv2d: 1-5                            [64, 30, 8, 8]            9,030\n",
       "├─BatchNorm2d: 1-6                       [64, 30, 8, 8]            60\n",
       "├─ReLU: 1-7                              [64, 30, 8, 8]            --\n",
       "├─MaxPool2d: 1-8                         [64, 30, 4, 4]            --\n",
       "├─Linear: 1-9                            [64, 150]                 72,150\n",
       "├─Dropout: 1-10                          [64, 150]                 --\n",
       "├─Linear: 1-11                           [64, 85]                  12,835\n",
       "├─Linear: 1-12                           [64, 10]                  860\n",
       "==========================================================================================\n",
       "Total params: 95,271\n",
       "Trainable params: 95,271\n",
       "Non-trainable params: 0\n",
       "Total mult-adds (M): 53.99\n",
       "==========================================================================================\n",
       "Input size (MB): 0.20\n",
       "Forward/backward pass size (MB): 9.17\n",
       "Params size (MB): 0.38\n",
       "Estimated Total Size (MB): 9.75\n",
       "=========================================================================================="
      ]
     },
     "execution_count": 217,
     "metadata": {},
     "output_type": "execute_result"
    }
   ],
   "source": [
    "summary(model, input_size=(batch_size, 1, 28, 28))"
   ]
  },
  {
   "cell_type": "markdown",
   "metadata": {
    "id": "qVOq40u6d7fH"
   },
   "source": [
    "## Enable training on a GPU"
   ]
  },
  {
   "cell_type": "code",
   "execution_count": 218,
   "metadata": {
    "id": "ClLoelbdd7fH"
   },
   "outputs": [],
   "source": [
    "def get_default_device():\n",
    "    \"\"\"Use GPU if available, else CPU\"\"\"\n",
    "    if torch.cuda.is_available():\n",
    "        return torch.device('cuda')\n",
    "    else:\n",
    "        return torch.device('cpu')\n",
    "\n",
    "def to_device(data, device):\n",
    "    \"\"\"Move tensor(s) to chosen device\"\"\"\n",
    "    if isinstance(data, (list,tuple)):\n",
    "        return [to_device(x, device) for x in data]\n",
    "    return data.to(device, non_blocking=True)\n",
    "\n",
    "class DeviceDataLoader():\n",
    "    \"\"\"Wrap a dataloader to move data to a device\"\"\"\n",
    "    def __init__(self, dl, device):\n",
    "        self.dl = dl\n",
    "        self.device = device\n",
    "    \n",
    "    def __iter__(self):\n",
    "        \"\"\"Yield a batch of data after moving it to device\"\"\"\n",
    "        for b in self.dl:\n",
    "            yield to_device(b, self.device)\n",
    "    \n",
    "    def __len__(self):\n",
    "        \"\"\"Number of batches\"\"\"\n",
    "        return len(self.dl)"
   ]
  },
  {
   "cell_type": "code",
   "execution_count": 219,
   "metadata": {
    "colab": {
     "base_uri": "https://localhost:8080/"
    },
    "id": "-HUYiRiFd7fH",
    "outputId": "19d777b0-9311-468b-c607-1f5678ade1f8"
   },
   "outputs": [
    {
     "data": {
      "text/plain": [
       "ImageClassifierNet(\n",
       "  (conv1): Conv2d(1, 12, kernel_size=(5, 5), stride=(1, 1))\n",
       "  (bn1): BatchNorm2d(12, eps=1e-05, momentum=0.1, affine=True, track_running_stats=True)\n",
       "  (relu1): ReLU()\n",
       "  (pool1): MaxPool2d(kernel_size=2, stride=2, padding=0, dilation=1, ceil_mode=False)\n",
       "  (conv2): Conv2d(12, 30, kernel_size=(5, 5), stride=(1, 1))\n",
       "  (bn2): BatchNorm2d(30, eps=1e-05, momentum=0.1, affine=True, track_running_stats=True)\n",
       "  (relu2): ReLU()\n",
       "  (pool2): MaxPool2d(kernel_size=2, stride=2, padding=0, dilation=1, ceil_mode=False)\n",
       "  (fc1): Linear(in_features=480, out_features=150, bias=True)\n",
       "  (drop1): Dropout(p=0.1, inplace=False)\n",
       "  (fc2): Linear(in_features=150, out_features=85, bias=True)\n",
       "  (out): Linear(in_features=85, out_features=10, bias=True)\n",
       ")"
      ]
     },
     "execution_count": 219,
     "metadata": {},
     "output_type": "execute_result"
    }
   ],
   "source": [
    "device = get_default_device()\n",
    "\n",
    "train_dl = DeviceDataLoader(train_dl, device)\n",
    "val_dl = DeviceDataLoader(val_dl, device)\n",
    "\n",
    "to_device(model, device)"
   ]
  },
  {
   "cell_type": "code",
   "execution_count": 220,
   "metadata": {
    "colab": {
     "base_uri": "https://localhost:8080/"
    },
    "id": "EdJbCVBmL0y4",
    "outputId": "0b3d7d1c-e333-456c-a820-6c852096e834"
   },
   "outputs": [
    {
     "data": {
      "text/plain": [
       "750"
      ]
     },
     "execution_count": 220,
     "metadata": {},
     "output_type": "execute_result"
    }
   ],
   "source": [
    "len(train_dl)"
   ]
  },
  {
   "cell_type": "markdown",
   "metadata": {
    "id": "roV44CHdd7fH"
   },
   "source": [
    "## Train the model"
   ]
  },
  {
   "cell_type": "markdown",
   "metadata": {
    "id": "562yZnB8d7fI"
   },
   "source": [
    "**Complete the `train_model` function to train your model on a dataset. Tune your network architecture and hyperparameters on the validation set.**"
   ]
  },
  {
   "cell_type": "code",
   "execution_count": 221,
   "metadata": {
    "id": "Phb4fOh-d7fI"
   },
   "outputs": [],
   "source": [
    "from torch.autograd import Variable\n",
    "def train_model(n_epochs, model, train_dl, val_dl, loss_fn, opt_fn, lr):\n",
    "    \"\"\"\n",
    "    Trains the model on a dataset.\n",
    "    \n",
    "    Args:\n",
    "        n_epochs: number of epochs\n",
    "        model: ImageClassifierNet object\n",
    "        train_dl: training dataloader\n",
    "        val_dl: validation dataloader\n",
    "        loss_fn: the loss function\n",
    "        opt_fn: the optimizer\n",
    "        lr: learning rate\n",
    "    \n",
    "    Returns:\n",
    "        The trained model. \n",
    "        A tuple of (model, train_losses, val_losses, train_accuracies, val_accuracies)\n",
    "    \"\"\"\n",
    "    # Record these values the end of each epoch\n",
    "    train_losses, val_losses, train_accuracies, val_accuracies = [], [], [], []\n",
    "\n",
    "    trainSteps = len(train_dl)\n",
    "    valSteps = len(val_dl)\n",
    "\n",
    "    for epoch in range(0, n_epochs):\n",
    "      print(f\"Currently in Epoch {epoch}\")\n",
    "      model.train()\n",
    "\n",
    "      total_train_loss = 0\n",
    "      total_val_loss = 0\n",
    "\n",
    "      total_train_correct = 0\n",
    "      total_val_correct = 0\n",
    "\n",
    "      for i, (train_batch, y_batch) in enumerate(train_dl):\n",
    "        \n",
    "        if torch.cuda.is_available():\n",
    "            train_batch = Variable(train_batch.cuda())\n",
    "            y_batch = Variable(y_batch.cuda())\n",
    "\n",
    "        if i%100 == 0:\n",
    "          print(f\"Processing batch {i}\")\n",
    "        opt_fn.zero_grad()\n",
    "        pred = model(train_batch)\n",
    "        loss = loss_fn(pred, y_batch)\n",
    "        loss.backward()\n",
    "        opt_fn.step()\n",
    "\n",
    "        total_train_loss += loss.item()\n",
    "        total_train_correct += (pred.argmax(1) == y_batch).type(torch.float).sum().item()\n",
    "      \n",
    "      with torch.no_grad():\n",
    "        model.eval()\n",
    "        for valx_batch, valy_batch in val_dl:\n",
    "          if torch.cuda.is_available():\n",
    "            valx_batch = Variable(valx_batch.cuda())\n",
    "            valy_batch = Variable(valy_batch.cuda())\n",
    "\n",
    "          pred = model(valx_batch)\n",
    "          loss = loss_fn(pred, valy_batch)\n",
    "          total_val_loss += loss.item()\n",
    "\n",
    "          total_val_correct += (pred.argmax(1) == valy_batch).type(torch.float).sum().item()\n",
    "      \n",
    "      # avg_train_loss = total_train_loss/trainSteps\n",
    "      # avg_val_loss = total_val_loss/valSteps\n",
    "\n",
    "      avg_train_loss = total_train_loss/(len(train_dl)*batch_size)\n",
    "      avg_val_loss = total_val_loss/(len(val_dl)*batch_size)\n",
    "\n",
    "      train_accuracy = total_train_correct/(len(train_dl)*batch_size)\n",
    "      val_accuracy = total_val_correct/(len(val_dl)*batch_size)\n",
    "\n",
    "      train_losses.append(avg_train_loss)\n",
    "      train_accuracies.append(train_accuracy)\n",
    "      val_losses.append(avg_val_loss)\n",
    "      val_accuracies.append(val_accuracy)    \n",
    "    \n",
    "    return model, train_losses, val_losses, train_accuracies, val_accuracies"
   ]
  },
  {
   "cell_type": "markdown",
   "metadata": {
    "id": "d8SYcymDd7fI"
   },
   "source": [
    "**Set the maximum number of training epochs, the loss function, the optimizer, and the learning rate.**"
   ]
  },
  {
   "cell_type": "code",
   "execution_count": 222,
   "metadata": {
    "id": "s7JV-ovUd7fI"
   },
   "outputs": [],
   "source": [
    "num_epochs = 30 # Max number of training epochs\n",
    "loss_fn =  torch.nn.CrossEntropyLoss() # Define the loss function\n",
    "lr =  0.001 # Set the learning rate\n",
    "opt_fn = torch.optim.Adam(model.parameters(), lr=lr) # Select an optimizer"
   ]
  },
  {
   "cell_type": "code",
   "execution_count": 223,
   "metadata": {
    "colab": {
     "base_uri": "https://localhost:8080/"
    },
    "id": "aATRusvYd7fI",
    "outputId": "05e26ca7-5096-45fe-a38a-c0046199bf42"
   },
   "outputs": [
    {
     "name": "stdout",
     "output_type": "stream",
     "text": [
      "Currently in Epoch 0\n",
      "Processing batch 0\n",
      "Processing batch 100\n",
      "Processing batch 200\n",
      "Processing batch 300\n",
      "Processing batch 400\n",
      "Processing batch 500\n",
      "Processing batch 600\n",
      "Processing batch 700\n",
      "Currently in Epoch 1\n",
      "Processing batch 0\n",
      "Processing batch 100\n",
      "Processing batch 200\n",
      "Processing batch 300\n",
      "Processing batch 400\n",
      "Processing batch 500\n",
      "Processing batch 600\n",
      "Processing batch 700\n",
      "Currently in Epoch 2\n",
      "Processing batch 0\n",
      "Processing batch 100\n",
      "Processing batch 200\n",
      "Processing batch 300\n",
      "Processing batch 400\n",
      "Processing batch 500\n",
      "Processing batch 600\n",
      "Processing batch 700\n",
      "Currently in Epoch 3\n",
      "Processing batch 0\n",
      "Processing batch 100\n",
      "Processing batch 200\n",
      "Processing batch 300\n",
      "Processing batch 400\n",
      "Processing batch 500\n",
      "Processing batch 600\n",
      "Processing batch 700\n",
      "Currently in Epoch 4\n",
      "Processing batch 0\n",
      "Processing batch 100\n",
      "Processing batch 200\n",
      "Processing batch 300\n",
      "Processing batch 400\n",
      "Processing batch 500\n",
      "Processing batch 600\n",
      "Processing batch 700\n",
      "Currently in Epoch 5\n",
      "Processing batch 0\n",
      "Processing batch 100\n",
      "Processing batch 200\n",
      "Processing batch 300\n",
      "Processing batch 400\n",
      "Processing batch 500\n",
      "Processing batch 600\n",
      "Processing batch 700\n",
      "Currently in Epoch 6\n",
      "Processing batch 0\n",
      "Processing batch 100\n",
      "Processing batch 200\n",
      "Processing batch 300\n",
      "Processing batch 400\n",
      "Processing batch 500\n",
      "Processing batch 600\n",
      "Processing batch 700\n",
      "Currently in Epoch 7\n",
      "Processing batch 0\n",
      "Processing batch 100\n",
      "Processing batch 200\n",
      "Processing batch 300\n",
      "Processing batch 400\n",
      "Processing batch 500\n",
      "Processing batch 600\n",
      "Processing batch 700\n",
      "Currently in Epoch 8\n",
      "Processing batch 0\n",
      "Processing batch 100\n",
      "Processing batch 200\n",
      "Processing batch 300\n",
      "Processing batch 400\n",
      "Processing batch 500\n",
      "Processing batch 600\n",
      "Processing batch 700\n",
      "Currently in Epoch 9\n",
      "Processing batch 0\n",
      "Processing batch 100\n",
      "Processing batch 200\n",
      "Processing batch 300\n",
      "Processing batch 400\n",
      "Processing batch 500\n",
      "Processing batch 600\n",
      "Processing batch 700\n",
      "Currently in Epoch 10\n",
      "Processing batch 0\n",
      "Processing batch 100\n",
      "Processing batch 200\n",
      "Processing batch 300\n",
      "Processing batch 400\n",
      "Processing batch 500\n",
      "Processing batch 600\n",
      "Processing batch 700\n",
      "Currently in Epoch 11\n",
      "Processing batch 0\n",
      "Processing batch 100\n",
      "Processing batch 200\n",
      "Processing batch 300\n",
      "Processing batch 400\n",
      "Processing batch 500\n",
      "Processing batch 600\n",
      "Processing batch 700\n",
      "Currently in Epoch 12\n",
      "Processing batch 0\n",
      "Processing batch 100\n",
      "Processing batch 200\n",
      "Processing batch 300\n",
      "Processing batch 400\n",
      "Processing batch 500\n",
      "Processing batch 600\n",
      "Processing batch 700\n",
      "Currently in Epoch 13\n",
      "Processing batch 0\n",
      "Processing batch 100\n",
      "Processing batch 200\n",
      "Processing batch 300\n",
      "Processing batch 400\n",
      "Processing batch 500\n",
      "Processing batch 600\n",
      "Processing batch 700\n",
      "Currently in Epoch 14\n",
      "Processing batch 0\n",
      "Processing batch 100\n",
      "Processing batch 200\n",
      "Processing batch 300\n",
      "Processing batch 400\n",
      "Processing batch 500\n",
      "Processing batch 600\n",
      "Processing batch 700\n",
      "Currently in Epoch 15\n",
      "Processing batch 0\n",
      "Processing batch 100\n",
      "Processing batch 200\n",
      "Processing batch 300\n",
      "Processing batch 400\n",
      "Processing batch 500\n",
      "Processing batch 600\n",
      "Processing batch 700\n",
      "Currently in Epoch 16\n",
      "Processing batch 0\n",
      "Processing batch 100\n",
      "Processing batch 200\n",
      "Processing batch 300\n",
      "Processing batch 400\n",
      "Processing batch 500\n",
      "Processing batch 600\n",
      "Processing batch 700\n",
      "Currently in Epoch 17\n",
      "Processing batch 0\n",
      "Processing batch 100\n",
      "Processing batch 200\n",
      "Processing batch 300\n",
      "Processing batch 400\n",
      "Processing batch 500\n",
      "Processing batch 600\n",
      "Processing batch 700\n",
      "Currently in Epoch 18\n",
      "Processing batch 0\n",
      "Processing batch 100\n",
      "Processing batch 200\n",
      "Processing batch 300\n",
      "Processing batch 400\n",
      "Processing batch 500\n",
      "Processing batch 600\n",
      "Processing batch 700\n",
      "Currently in Epoch 19\n",
      "Processing batch 0\n",
      "Processing batch 100\n",
      "Processing batch 200\n",
      "Processing batch 300\n",
      "Processing batch 400\n",
      "Processing batch 500\n",
      "Processing batch 600\n",
      "Processing batch 700\n",
      "Currently in Epoch 20\n",
      "Processing batch 0\n",
      "Processing batch 100\n",
      "Processing batch 200\n",
      "Processing batch 300\n",
      "Processing batch 400\n",
      "Processing batch 500\n",
      "Processing batch 600\n",
      "Processing batch 700\n",
      "Currently in Epoch 21\n",
      "Processing batch 0\n",
      "Processing batch 100\n",
      "Processing batch 200\n",
      "Processing batch 300\n",
      "Processing batch 400\n",
      "Processing batch 500\n",
      "Processing batch 600\n",
      "Processing batch 700\n",
      "Currently in Epoch 22\n",
      "Processing batch 0\n",
      "Processing batch 100\n",
      "Processing batch 200\n",
      "Processing batch 300\n",
      "Processing batch 400\n",
      "Processing batch 500\n",
      "Processing batch 600\n",
      "Processing batch 700\n",
      "Currently in Epoch 23\n",
      "Processing batch 0\n",
      "Processing batch 100\n",
      "Processing batch 200\n",
      "Processing batch 300\n",
      "Processing batch 400\n",
      "Processing batch 500\n",
      "Processing batch 600\n",
      "Processing batch 700\n",
      "Currently in Epoch 24\n",
      "Processing batch 0\n",
      "Processing batch 100\n",
      "Processing batch 200\n",
      "Processing batch 300\n",
      "Processing batch 400\n",
      "Processing batch 500\n",
      "Processing batch 600\n",
      "Processing batch 700\n",
      "Currently in Epoch 25\n",
      "Processing batch 0\n",
      "Processing batch 100\n",
      "Processing batch 200\n",
      "Processing batch 300\n",
      "Processing batch 400\n",
      "Processing batch 500\n",
      "Processing batch 600\n",
      "Processing batch 700\n",
      "Currently in Epoch 26\n",
      "Processing batch 0\n",
      "Processing batch 100\n",
      "Processing batch 200\n",
      "Processing batch 300\n",
      "Processing batch 400\n",
      "Processing batch 500\n",
      "Processing batch 600\n",
      "Processing batch 700\n",
      "Currently in Epoch 27\n",
      "Processing batch 0\n",
      "Processing batch 100\n",
      "Processing batch 200\n",
      "Processing batch 300\n",
      "Processing batch 400\n",
      "Processing batch 500\n",
      "Processing batch 600\n",
      "Processing batch 700\n",
      "Currently in Epoch 28\n",
      "Processing batch 0\n",
      "Processing batch 100\n",
      "Processing batch 200\n",
      "Processing batch 300\n",
      "Processing batch 400\n",
      "Processing batch 500\n",
      "Processing batch 600\n",
      "Processing batch 700\n",
      "Currently in Epoch 29\n",
      "Processing batch 0\n",
      "Processing batch 100\n",
      "Processing batch 200\n",
      "Processing batch 300\n",
      "Processing batch 400\n",
      "Processing batch 500\n",
      "Processing batch 600\n",
      "Processing batch 700\n"
     ]
    }
   ],
   "source": [
    "history = train_model(num_epochs, model, train_dl, val_dl, loss_fn, opt_fn, lr)\n",
    "\n",
    "# (Optional)\n",
    "# Once training is finished, save model as .pth and avoid retraining for the following blocks\n",
    "#torch.save(history[0].state_dict(), 'mnist_model.pt')"
   ]
  },
  {
   "cell_type": "code",
   "execution_count": 194,
   "metadata": {
    "id": "6xNY7i618T7w"
   },
   "outputs": [],
   "source": [
    "# (Optional)\n",
    "# Add necessary codes to the next block to load the model from file.\n",
    "# load model history"
   ]
  },
  {
   "cell_type": "code",
   "execution_count": 195,
   "metadata": {
    "id": "9d8bZAoI8QMk"
   },
   "outputs": [],
   "source": [
    "model, train_losses, val_losses, train_accuracies, val_accuracies = history"
   ]
  },
  {
   "cell_type": "markdown",
   "metadata": {
    "id": "kAlO7hJ3d7fI"
   },
   "source": [
    "## Plot loss and accuracy"
   ]
  },
  {
   "cell_type": "code",
   "execution_count": 196,
   "metadata": {
    "id": "IgZH6-tRd7fJ"
   },
   "outputs": [],
   "source": [
    "def plot_accuracy(train_accuracies, val_accuracies):\n",
    "    \"\"\"Plot accuracies\"\"\"\n",
    "    plt.plot(train_accuracies, \"-x\")\n",
    "    plt.plot(val_accuracies, \"-o\")\n",
    "    plt.xlabel(\"Epoch\")\n",
    "    plt.ylabel(\"Accuracy\")\n",
    "    plt.legend([\"Training\", \"Validation\"])\n",
    "    plt.title(\"Accuracy vs. No. of epochs\")"
   ]
  },
  {
   "cell_type": "code",
   "execution_count": 197,
   "metadata": {
    "colab": {
     "base_uri": "https://localhost:8080/",
     "height": 295
    },
    "id": "5p949D2Jd7fJ",
    "outputId": "561cd401-de05-4354-c787-daa1a91ff3d1"
   },
   "outputs": [
    {
     "data": {
      "image/png": "[encoded data removed]",
      "text/plain": [
       "<Figure size 432x288 with 1 Axes>"
      ]
     },
     "metadata": {
      "needs_background": "light"
     },
     "output_type": "display_data"
    }
   ],
   "source": [
    "plot_accuracy(train_accuracies, val_accuracies)"
   ]
  },
  {
   "cell_type": "code",
   "execution_count": 198,
   "metadata": {
    "id": "mLT6fa9Kd7fJ"
   },
   "outputs": [],
   "source": [
    "def plot_losses(train_losses, val_losses):\n",
    "    \"\"\"Plot losses\"\"\"\n",
    "    plt.plot(train_losses, \"-x\")\n",
    "    plt.plot(val_losses, \"-o\")\n",
    "    plt.xlabel(\"Epoch\")\n",
    "    plt.ylabel(\"Loss\")\n",
    "    plt.legend([\"Training\", \"Validation\"])\n",
    "    plt.title(\"Loss vs. No. of Epochs\")"
   ]
  },
  {
   "cell_type": "code",
   "execution_count": 199,
   "metadata": {
    "colab": {
     "base_uri": "https://localhost:8080/",
     "height": 295
    },
    "id": "2MnwfDpOd7fJ",
    "outputId": "42700b98-c155-4bf4-dc7e-bf5074dfbb02"
   },
   "outputs": [
    {
     "data": {
      "image/png": "[encoded data removed]",
      "text/plain": [
       "<Figure size 432x288 with 1 Axes>"
      ]
     },
     "metadata": {
      "needs_background": "light"
     },
     "output_type": "display_data"
    }
   ],
   "source": [
    "plot_losses(train_losses, val_losses)"
   ]
  },
  {
   "cell_type": "markdown",
   "metadata": {
    "id": "hJ-p0RjYd7fJ"
   },
   "source": [
    "## Train a model on the entire dataset"
   ]
  },
  {
   "cell_type": "code",
   "execution_count": 224,
   "metadata": {
    "id": "eCpqCmbed7fJ"
   },
   "outputs": [],
   "source": [
    "indices, _ = split_indices(len(dataset), 0, rand_seed)\n",
    "\n",
    "sampler = SubsetRandomSampler(indices)\n",
    "dl = DataLoader(dataset, batch_size, sampler=sampler)\n",
    "dl = DeviceDataLoader(dl, device)"
   ]
  },
  {
   "cell_type": "markdown",
   "metadata": {
    "id": "IsgMQH7cd7fK"
   },
   "source": [
    "**Set the maximum number of training epochs and the learning rate for finetuning your model.**"
   ]
  },
  {
   "cell_type": "code",
   "execution_count": 225,
   "metadata": {
    "id": "tkTQCYu_d7fK"
   },
   "outputs": [],
   "source": [
    "num_epochs = 27 # Max number of training epochs\n",
    "lr = 0.001# Set the learning rate"
   ]
  },
  {
   "cell_type": "code",
   "execution_count": 226,
   "metadata": {
    "colab": {
     "base_uri": "https://localhost:8080/"
    },
    "id": "djPw-AArd7fK",
    "outputId": "5707be9f-eeb3-44e5-fcfa-e5328bd58ec0"
   },
   "outputs": [
    {
     "name": "stdout",
     "output_type": "stream",
     "text": [
      "Currently in Epoch 0\n",
      "Processing batch 0\n",
      "Processing batch 100\n",
      "Processing batch 200\n",
      "Processing batch 300\n",
      "Processing batch 400\n",
      "Processing batch 500\n",
      "Processing batch 600\n",
      "Processing batch 700\n",
      "Processing batch 800\n",
      "Processing batch 900\n",
      "Currently in Epoch 1\n",
      "Processing batch 0\n",
      "Processing batch 100\n",
      "Processing batch 200\n",
      "Processing batch 300\n",
      "Processing batch 400\n",
      "Processing batch 500\n",
      "Processing batch 600\n",
      "Processing batch 700\n",
      "Processing batch 800\n",
      "Processing batch 900\n",
      "Currently in Epoch 2\n",
      "Processing batch 0\n",
      "Processing batch 100\n",
      "Processing batch 200\n",
      "Processing batch 300\n",
      "Processing batch 400\n",
      "Processing batch 500\n",
      "Processing batch 600\n",
      "Processing batch 700\n",
      "Processing batch 800\n",
      "Processing batch 900\n",
      "Currently in Epoch 3\n",
      "Processing batch 0\n",
      "Processing batch 100\n",
      "Processing batch 200\n",
      "Processing batch 300\n",
      "Processing batch 400\n",
      "Processing batch 500\n",
      "Processing batch 600\n",
      "Processing batch 700\n",
      "Processing batch 800\n",
      "Processing batch 900\n",
      "Currently in Epoch 4\n",
      "Processing batch 0\n",
      "Processing batch 100\n",
      "Processing batch 200\n",
      "Processing batch 300\n",
      "Processing batch 400\n",
      "Processing batch 500\n",
      "Processing batch 600\n",
      "Processing batch 700\n",
      "Processing batch 800\n",
      "Processing batch 900\n",
      "Currently in Epoch 5\n",
      "Processing batch 0\n",
      "Processing batch 100\n",
      "Processing batch 200\n",
      "Processing batch 300\n",
      "Processing batch 400\n",
      "Processing batch 500\n",
      "Processing batch 600\n",
      "Processing batch 700\n",
      "Processing batch 800\n",
      "Processing batch 900\n",
      "Currently in Epoch 6\n",
      "Processing batch 0\n",
      "Processing batch 100\n",
      "Processing batch 200\n",
      "Processing batch 300\n",
      "Processing batch 400\n",
      "Processing batch 500\n",
      "Processing batch 600\n",
      "Processing batch 700\n",
      "Processing batch 800\n",
      "Processing batch 900\n",
      "Currently in Epoch 7\n",
      "Processing batch 0\n",
      "Processing batch 100\n",
      "Processing batch 200\n",
      "Processing batch 300\n",
      "Processing batch 400\n",
      "Processing batch 500\n",
      "Processing batch 600\n",
      "Processing batch 700\n",
      "Processing batch 800\n",
      "Processing batch 900\n",
      "Currently in Epoch 8\n",
      "Processing batch 0\n",
      "Processing batch 100\n",
      "Processing batch 200\n",
      "Processing batch 300\n",
      "Processing batch 400\n",
      "Processing batch 500\n",
      "Processing batch 600\n",
      "Processing batch 700\n",
      "Processing batch 800\n",
      "Processing batch 900\n",
      "Currently in Epoch 9\n",
      "Processing batch 0\n",
      "Processing batch 100\n",
      "Processing batch 200\n",
      "Processing batch 300\n",
      "Processing batch 400\n",
      "Processing batch 500\n",
      "Processing batch 600\n",
      "Processing batch 700\n",
      "Processing batch 800\n",
      "Processing batch 900\n",
      "Currently in Epoch 10\n",
      "Processing batch 0\n",
      "Processing batch 100\n",
      "Processing batch 200\n",
      "Processing batch 300\n",
      "Processing batch 400\n",
      "Processing batch 500\n",
      "Processing batch 600\n",
      "Processing batch 700\n",
      "Processing batch 800\n",
      "Processing batch 900\n",
      "Currently in Epoch 11\n",
      "Processing batch 0\n",
      "Processing batch 100\n",
      "Processing batch 200\n",
      "Processing batch 300\n",
      "Processing batch 400\n",
      "Processing batch 500\n",
      "Processing batch 600\n",
      "Processing batch 700\n",
      "Processing batch 800\n",
      "Processing batch 900\n",
      "Currently in Epoch 12\n",
      "Processing batch 0\n",
      "Processing batch 100\n",
      "Processing batch 200\n",
      "Processing batch 300\n",
      "Processing batch 400\n",
      "Processing batch 500\n",
      "Processing batch 600\n",
      "Processing batch 700\n",
      "Processing batch 800\n",
      "Processing batch 900\n",
      "Currently in Epoch 13\n",
      "Processing batch 0\n",
      "Processing batch 100\n",
      "Processing batch 200\n",
      "Processing batch 300\n",
      "Processing batch 400\n",
      "Processing batch 500\n",
      "Processing batch 600\n",
      "Processing batch 700\n",
      "Processing batch 800\n",
      "Processing batch 900\n",
      "Currently in Epoch 14\n",
      "Processing batch 0\n",
      "Processing batch 100\n",
      "Processing batch 200\n",
      "Processing batch 300\n",
      "Processing batch 400\n",
      "Processing batch 500\n",
      "Processing batch 600\n",
      "Processing batch 700\n",
      "Processing batch 900\n",
      "Currently in Epoch 15\n",
      "Processing batch 0\n",
      "Processing batch 100\n",
      "Processing batch 200\n",
      "Processing batch 300\n",
      "Processing batch 400\n",
      "Processing batch 500\n",
      "Processing batch 600\n",
      "Processing batch 700\n",
      "Processing batch 800\n",
      "Processing batch 900\n",
      "Currently in Epoch 16\n",
      "Processing batch 0\n",
      "Processing batch 100\n",
      "Processing batch 200\n",
      "Processing batch 300\n",
      "Processing batch 400\n",
      "Processing batch 500\n",
      "Processing batch 600\n",
      "Processing batch 700\n",
      "Processing batch 800\n",
      "Processing batch 900\n",
      "Currently in Epoch 17\n",
      "Processing batch 0\n",
      "Processing batch 100\n",
      "Processing batch 200\n",
      "Processing batch 300\n",
      "Processing batch 400\n",
      "Processing batch 500\n",
      "Processing batch 600\n",
      "Processing batch 700\n",
      "Processing batch 800\n",
      "Processing batch 900\n",
      "Currently in Epoch 18\n",
      "Processing batch 0\n",
      "Processing batch 100\n",
      "Processing batch 200\n",
      "Processing batch 300\n",
      "Processing batch 400\n",
      "Processing batch 500\n",
      "Processing batch 600\n",
      "Processing batch 700\n",
      "Processing batch 800\n",
      "Processing batch 900\n",
      "Currently in Epoch 19\n",
      "Processing batch 0\n",
      "Processing batch 100\n",
      "Processing batch 200\n",
      "Processing batch 300\n",
      "Processing batch 400\n",
      "Processing batch 500\n",
      "Processing batch 600\n",
      "Processing batch 700\n",
      "Processing batch 800\n",
      "Processing batch 900\n",
      "Currently in Epoch 20\n",
      "Processing batch 0\n",
      "Processing batch 100\n",
      "Processing batch 200\n",
      "Processing batch 300\n",
      "Processing batch 400\n",
      "Processing batch 500\n",
      "Processing batch 600\n",
      "Processing batch 700\n",
      "Processing batch 800\n",
      "Processing batch 900\n",
      "Currently in Epoch 21\n",
      "Processing batch 0\n",
      "Processing batch 100\n",
      "Processing batch 200\n",
      "Processing batch 300\n",
      "Processing batch 400\n",
      "Processing batch 500\n",
      "Processing batch 600\n",
      "Processing batch 700\n",
      "Processing batch 800\n",
      "Processing batch 900\n",
      "Currently in Epoch 22\n",
      "Processing batch 0\n",
      "Processing batch 100\n",
      "Processing batch 200\n",
      "Processing batch 300\n",
      "Processing batch 400\n",
      "Processing batch 500\n",
      "Processing batch 600\n",
      "Processing batch 700\n",
      "Processing batch 800\n",
      "Processing batch 900\n",
      "Currently in Epoch 23\n",
      "Processing batch 0\n",
      "Processing batch 100\n",
      "Processing batch 200\n",
      "Processing batch 300\n",
      "Processing batch 400\n",
      "Processing batch 500\n",
      "Processing batch 600\n",
      "Processing batch 700\n",
      "Processing batch 800\n",
      "Processing batch 900\n",
      "Currently in Epoch 24\n",
      "Processing batch 0\n",
      "Processing batch 100\n",
      "Processing batch 200\n",
      "Processing batch 300\n",
      "Processing batch 400\n",
      "Processing batch 500\n",
      "Processing batch 600\n",
      "Processing batch 700\n",
      "Processing batch 800\n",
      "Processing batch 900\n",
      "Currently in Epoch 25\n",
      "Processing batch 0\n",
      "Processing batch 100\n",
      "Processing batch 200\n",
      "Processing batch 300\n",
      "Processing batch 400\n",
      "Processing batch 500\n",
      "Processing batch 600\n",
      "Processing batch 700\n",
      "Processing batch 800\n",
      "Processing batch 900\n",
      "Currently in Epoch 26\n",
      "Processing batch 0\n",
      "Processing batch 100\n",
      "Processing batch 200\n",
      "Processing batch 300\n",
      "Processing batch 400\n",
      "Processing batch 500\n",
      "Processing batch 600\n",
      "Processing batch 700\n",
      "Processing batch 800\n",
      "Processing batch 900\n"
     ]
    }
   ],
   "source": [
    "history = train_model(num_epochs, model, dl, dl, loss_fn, opt_fn, lr)\n",
    "model = history[0]"
   ]
  },
  {
   "cell_type": "markdown",
   "metadata": {
    "id": "f9sHHEqHd7fK"
   },
   "source": [
    "## Check Predictions"
   ]
  },
  {
   "cell_type": "code",
   "execution_count": 227,
   "metadata": {
    "id": "6C2v6JgOd7fK"
   },
   "outputs": [],
   "source": [
    "def view_prediction(img, label, probs, classes):\n",
    "    \"\"\"\n",
    "    Visualize predictions.\n",
    "    \"\"\"\n",
    "    probs = probs.cpu().numpy().squeeze()\n",
    "\n",
    "    fig, (ax1, ax2) = plt.subplots(figsize=(8,15), ncols=2)\n",
    "    ax1.imshow(img.resize_(1, 28, 28).cpu().numpy().squeeze(), cmap='Greys_r')\n",
    "    ax1.axis('off')\n",
    "    ax1.set_title('Actual: {}'.format(classes[label]))\n",
    "    ax2.barh(np.arange(10), probs)\n",
    "    ax2.set_aspect(0.1)\n",
    "    ax2.set_yticks(np.arange(10))\n",
    "    ax2.set_yticklabels(classes, size='small');\n",
    "    ax2.set_title('Predicted: probabilities')\n",
    "    ax2.set_xlim(0, 1.1)\n",
    "\n",
    "    plt.tight_layout()"
   ]
  },
  {
   "cell_type": "code",
   "execution_count": 232,
   "metadata": {
    "colab": {
     "base_uri": "https://localhost:8080/",
     "height": 307
    },
    "id": "3uyDRvW2d7fK",
    "outputId": "572f852f-aaad-4de4-e0e4-3b44ef40f2ac"
   },
   "outputs": [
    {
     "data": {
      "image/png": "[encoded data removed]",
      "text/plain": [
       "<Figure size 576x1080 with 2 Axes>"
      ]
     },
     "metadata": {
      "needs_background": "light"
     },
     "output_type": "display_data"
    }
   ],
   "source": [
    "# Calculate the class probabilites (log softmax) for img\n",
    "images = iter(dl)\n",
    "for imgs, labels in images:\n",
    "    with torch.no_grad():\n",
    "        model.eval()\n",
    "        # Calculate the class probabilites (log softmax) for img\n",
    "        probs = torch.nn.functional.softmax(model(imgs[0].unsqueeze(0)), dim=1)\n",
    "        # Plot the image and probabilites\n",
    "        view_prediction(imgs[0], labels[0], probs, dataset.classes)\n",
    "    break"
   ]
  },
  {
   "cell_type": "markdown",
   "metadata": {
    "id": "cuYB5juFd7fL"
   },
   "source": [
    "## Save the model"
   ]
  },
  {
   "cell_type": "code",
   "execution_count": 233,
   "metadata": {
    "id": "fHgHYXcid7fL"
   },
   "outputs": [],
   "source": [
    "# Very important\n",
    "torch.save(model, 'model')"
   ]
  },
  {
   "cell_type": "markdown",
   "metadata": {
    "id": "Sbkp61bvd7fL"
   },
   "source": [
    "## Compute accuracy on the test set"
   ]
  },
  {
   "cell_type": "code",
   "execution_count": 234,
   "metadata": {
    "id": "oSPdA1mCd7fL"
   },
   "outputs": [],
   "source": [
    "test_dataset = FashionMNIST('MNIST_data/', download = True, train = False, transform = transform)"
   ]
  },
  {
   "cell_type": "code",
   "execution_count": 235,
   "metadata": {
    "id": "KVhz5ldTd7fL"
   },
   "outputs": [],
   "source": [
    "test_dl = DataLoader(test_dataset, batch_size)\n",
    "test_dl = DeviceDataLoader(test_dl, device)"
   ]
  },
  {
   "cell_type": "code",
   "execution_count": 236,
   "metadata": {
    "id": "WxrohWhMd7fL"
   },
   "outputs": [],
   "source": [
    "def evaluate(model, test_dl):\n",
    "    \"\"\"\n",
    "    Evaluates your model on the test data.\n",
    "    \n",
    "    Args:\n",
    "        model: ImageClassifierNet object\n",
    "        test_dl: test dataloader\n",
    "    \n",
    "    Returns: \n",
    "        Test accuracy.\n",
    "    \"\"\"\n",
    "    model.eval()\n",
    "    total_test_correct = 0.0\n",
    "    for testx_batch, testy_batch in test_dl:\n",
    "      if torch.cuda.is_available():\n",
    "        testx_batch = Variable(testx_batch.cuda())\n",
    "        testy_batch = Variable(testy_batch.cuda())\n",
    "      \n",
    "      pred = model(testx_batch)\n",
    "      total_test_correct += (pred.argmax(1) == testy_batch).type(torch.float).sum().item()\n",
    "    \n",
    "    total_test_correct = total_test_correct / (len(test_dl) * batch_size)\n",
    "    return total_test_correct"
   ]
  },
  {
   "cell_type": "code",
   "execution_count": 237,
   "metadata": {
    "colab": {
     "base_uri": "https://localhost:8080/"
    },
    "id": "6NupaE4Ad7fL",
    "outputId": "68f30ab4-6294-43b1-a4f2-1887dd621833"
   },
   "outputs": [
    {
     "name": "stdout",
     "output_type": "stream",
     "text": [
      "Test Accuracy = 0.9033\n"
     ]
    }
   ],
   "source": [
    "print(\"Test Accuracy = {:.4f}\".format(evaluate(model, test_dl)))"
   ]
  },
  {
   "cell_type": "markdown",
   "metadata": {
    "id": "qYSP2fbFd7fM"
   },
   "source": [
    "## Tips to increase the test accuracy\n",
    "\n",
    "- **Data augmentation:** Diversifies your training set and leads to better generalization\n",
    "    - Flipping\n",
    "    - Rotation\n",
    "    - Shifting\n",
    "    - Cropping\n",
    "    - Adding noise\n",
    "    - Blurring\n",
    "    \n",
    "- **Regularization:** Reduces overfitting on the training set\n",
    "    - Early stopping\n",
    "    - Dropout\n",
    "    - $l_2$ regularization\n",
    "    - Batch normalization\n",
    "\n",
    "- **Hyperparameter tuning:**\n",
    "    - Weight initialization\n",
    "    - Learning rate\n",
    "    - Activation functions\n",
    "    - Optimizers"
   ]
  },
  {
   "cell_type": "code",
   "execution_count": null,
   "metadata": {
    "id": "vnjtcM3Td7fM"
   },
   "outputs": [],
   "source": []
  }
 ],
 "metadata": {
  "accelerator": "GPU",
  "colab": {
   "collapsed_sections": [],
   "name": "pa5_deep_learning_9033_best.ipynb",
   "provenance": []
  },
  "kernelspec": {
   "display_name": "Python 3 (ipykernel)",
   "language": "python",
   "name": "python3"
  },
  "language_info": {
   "codemirror_mode": {
    "name": "ipython",
    "version": 3
   },
   "file_extension": ".py",
   "mimetype": "text/x-python",
   "name": "python",
   "nbconvert_exporter": "python",
   "pygments_lexer": "ipython3",
   "version": "3.9.7"
  }
 },
 "nbformat": 4,
 "nbformat_minor": 1
}
